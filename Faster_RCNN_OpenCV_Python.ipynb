{
 "cells": [
  {
   "cell_type": "code",
   "execution_count": 2,
   "metadata": {},
   "outputs": [],
   "source": [
    "from __future__ import print_function\n",
    "import numpy as np\n",
    "import cv2 as cv\n",
    "from cv2 import dnn\n",
    "import timeit"
   ]
  },
  {
   "cell_type": "code",
   "execution_count": 11,
   "metadata": {},
   "outputs": [
    {
     "name": "stdout",
     "output_type": "stream",
     "text": [
      "Input: (1L, 3L, 224L, 224L) float32\n",
      "Output: (1L, 1000L) float32\n",
      "Best match space shuttle\n",
      "\n"
     ]
    }
   ],
   "source": [
    "def timeit_forward(net):\n",
    "    print(\"Runtime:\", timeit.timeit(lambda: net.forward(), number=10))\n",
    "\n",
    "def get_class_list():\n",
    "    with open('synset_words.txt', 'rt') as f:\n",
    "        return [x[x.find(\" \") + 1:] for x in f]\n",
    "\n",
    "blob = dnn.blobFromImage(cv.imread('space_shuttle.jpg'), 1, (224, 224), (104, 117, 123), False)\n",
    "print(\"Input:\", blob.shape, blob.dtype)\n",
    "\n",
    "net = dnn.readNetFromCaffe('bvlc_googlenet.prototxt', 'bvlc_googlenet.caffemodel')\n",
    "net.setInput(blob)\n",
    "prob = net.forward()\n",
    "#timeit_forward(net)        #Uncomment to check performance\n",
    "\n",
    "print(\"Output:\", prob.shape, prob.dtype)\n",
    "classes = get_class_list()\n",
    "print(\"Best match\", classes[prob.argmax()])"
   ]
  },
  {
   "cell_type": "code",
   "execution_count": 5,
   "metadata": {},
   "outputs": [
    {
     "ename": "error",
     "evalue": "C:\\build\\master_winpack-bindings-win64-vc14-static\\opencv\\modules\\dnn\\src\\caffe\\caffe_io.cpp:1119: error: (-2) FAILED: fs.is_open(). Can't open \"bvlc_googlenet.prototxt\" in function cv::dnn::ReadProtoFromTextFile\n",
     "output_type": "error",
     "traceback": [
      "\u001b[1;31m---------------------------------------------------------------------------\u001b[0m",
      "\u001b[1;31merror\u001b[0m                                     Traceback (most recent call last)",
      "\u001b[1;32m<ipython-input-5-37c0e537d0e8>\u001b[0m in \u001b[0;36m<module>\u001b[1;34m()\u001b[0m\n\u001b[1;32m----> 1\u001b[1;33m \u001b[0mnet\u001b[0m \u001b[1;33m=\u001b[0m \u001b[0mdnn\u001b[0m\u001b[1;33m.\u001b[0m\u001b[0mreadNetFromCaffe\u001b[0m\u001b[1;33m(\u001b[0m\u001b[1;34m'bvlc_googlenet.prototxt'\u001b[0m\u001b[1;33m,\u001b[0m \u001b[1;34m'bvlc_googlenet.caffemodel'\u001b[0m\u001b[1;33m)\u001b[0m\u001b[1;33m\u001b[0m\u001b[0m\n\u001b[0m",
      "\u001b[1;31merror\u001b[0m: C:\\build\\master_winpack-bindings-win64-vc14-static\\opencv\\modules\\dnn\\src\\caffe\\caffe_io.cpp:1119: error: (-2) FAILED: fs.is_open(). Can't open \"bvlc_googlenet.prototxt\" in function cv::dnn::ReadProtoFromTextFile\n"
     ]
    }
   ],
   "source": [
    "net = dnn.readNetFromCaffe('bvlc_googlenet.prototxt', 'bvlc_googlenet.caffemodel')"
   ]
  },
  {
   "cell_type": "code",
   "execution_count": 12,
   "metadata": {},
   "outputs": [],
   "source": [
    "classNames = [ \"__background__\", \"aeroplane\", \"bicycle\", \"bird\", \"boat\", \"bottle\", \"bus\", \"car\", \"cat\", \"chair\", \n",
    "              \"cow\", \"diningtable\", \"dog\", \"horse\", \"motorbike\", \"person\", \"pottedplant\", \"sheep\", \"sofa\", \"train\", \"tvmonitor\"]"
   ]
  },
  {
   "cell_type": "code",
   "execution_count": 13,
   "metadata": {},
   "outputs": [],
   "source": [
    "kInpWidth = 800\n",
    "kInpHeight = 600"
   ]
  },
  {
   "cell_type": "code",
   "execution_count": 83,
   "metadata": {},
   "outputs": [],
   "source": [
    "protoPath = \"faster_rcnn_vgg16.prototxt\"\n",
    "modelPath = \"VGG16_faster_rcnn_final.caffemodel\"\n",
    "imagePath = \"street.png\"\n",
    "confThreshold = 0.8"
   ]
  },
  {
   "cell_type": "code",
   "execution_count": 44,
   "metadata": {},
   "outputs": [],
   "source": [
    "net = dnn.readNetFromCaffe(protoPath, modelPath)"
   ]
  },
  {
   "cell_type": "code",
   "execution_count": 84,
   "metadata": {},
   "outputs": [],
   "source": [
    "img = cv.imread(imagePath)"
   ]
  },
  {
   "cell_type": "code",
   "execution_count": 85,
   "metadata": {},
   "outputs": [],
   "source": [
    "img = cv.resize(img, (kInpWidth, kInpHeight))"
   ]
  },
  {
   "cell_type": "code",
   "execution_count": 86,
   "metadata": {},
   "outputs": [],
   "source": [
    "blob = dnn.blobFromImage(img, 1.0, None, (102.9801, 115.9465, 122.7717), False, False)"
   ]
  },
  {
   "cell_type": "code",
   "execution_count": 87,
   "metadata": {},
   "outputs": [
    {
     "name": "stdout",
     "output_type": "stream",
     "text": [
      "Input: (1L, 3L, 600L, 800L) float32\n"
     ]
    }
   ],
   "source": [
    "print(\"Input:\", blob.shape, blob.dtype)"
   ]
  },
  {
   "cell_type": "code",
   "execution_count": 88,
   "metadata": {},
   "outputs": [],
   "source": [
    "imInfo = np.array([img.shape[0], img.shape[1], 1.6])"
   ]
  },
  {
   "cell_type": "code",
   "execution_count": 89,
   "metadata": {},
   "outputs": [],
   "source": [
    "net.setInput(blob,\"data\")"
   ]
  },
  {
   "cell_type": "code",
   "execution_count": 90,
   "metadata": {},
   "outputs": [],
   "source": [
    "net.setInput(imInfo, \"im_info\")"
   ]
  },
  {
   "cell_type": "code",
   "execution_count": 91,
   "metadata": {},
   "outputs": [],
   "source": [
    "detections = net.forward()"
   ]
  },
  {
   "cell_type": "code",
   "execution_count": 62,
   "metadata": {},
   "outputs": [],
   "source": [
    "# An every detection is a vector [id, classId, confidence, left, top, right, bottom]"
   ]
  },
  {
   "cell_type": "code",
   "execution_count": 92,
   "metadata": {},
   "outputs": [
    {
     "data": {
      "text/plain": [
       "41"
      ]
     },
     "execution_count": 92,
     "metadata": {},
     "output_type": "execute_result"
    }
   ],
   "source": [
    "len(detections[0][0])"
   ]
  },
  {
   "cell_type": "code",
   "execution_count": 93,
   "metadata": {},
   "outputs": [
    {
     "data": {
      "text/plain": [
       "array([[  0.00000000e+00,   1.00000000e+00,   2.62544145e-05,\n",
       "          3.04985523e+00,  -1.21599585e-01,   3.87005806e+00,\n",
       "          8.72449040e-01],\n",
       "       [  0.00000000e+00,   1.00000000e+00,   2.62544145e-05,\n",
       "          4.98552322e-02,  -1.21599585e-01,   8.70058119e-01,\n",
       "          8.72449040e-01],\n",
       "       [  0.00000000e+00,   2.00000000e+00,   2.05693839e-04,\n",
       "          3.08858824e+00,  -7.28082359e-02,   3.86198759e+00,\n",
       "          9.23799157e-01],\n",
       "       [  0.00000000e+00,   2.00000000e+00,   2.05693839e-04,\n",
       "          8.85883272e-02,  -7.28082359e-02,   8.61987472e-01,\n",
       "          9.23799157e-01],\n",
       "       [  0.00000000e+00,   3.00000000e+00,   4.63993165e-05,\n",
       "          3.09365010e+00,  -1.63866401e-01,   3.82346892e+00,\n",
       "          9.13555861e-01],\n",
       "       [  0.00000000e+00,   3.00000000e+00,   4.63993165e-05,\n",
       "          3.74600172e-01,  -1.63866401e-01,   3.29387593e+00,\n",
       "          9.13555861e-01],\n",
       "       [  0.00000000e+00,   4.00000000e+00,   3.90978210e-04,\n",
       "          3.10051870e+00,  -1.47551119e-01,   3.84780312e+00,\n",
       "          9.57491457e-01],\n",
       "       [  0.00000000e+00,   4.00000000e+00,   3.90978210e-04,\n",
       "          4.02075052e-01,  -1.47551119e-01,   3.39121270e+00,\n",
       "          9.57491457e-01],\n",
       "       [  0.00000000e+00,   5.00000000e+00,   7.97146204e-05,\n",
       "          3.16493249e+00,  -8.80900919e-02,   3.79288459e+00,\n",
       "          9.68254924e-01],\n",
       "       [  0.00000000e+00,   5.00000000e+00,   7.97146204e-05,\n",
       "          6.59730077e-01,  -8.80900919e-02,   3.17153788e+00,\n",
       "          9.68254924e-01],\n",
       "       [  0.00000000e+00,   5.00000000e+00,   7.97146204e-05,\n",
       "          1.64932519e-01,  -8.80900919e-02,   7.92884469e-01,\n",
       "          9.68254924e-01],\n",
       "       [  0.00000000e+00,   6.00000000e+00,   2.06997065e-05,\n",
       "          3.04903698e+00,  -1.24984801e-01,   3.89828014e+00,\n",
       "          9.17466819e-01],\n",
       "       [  0.00000000e+00,   6.00000000e+00,   2.06997065e-05,\n",
       "          4.90369797e-02,  -1.24984801e-01,   8.98280382e-01,\n",
       "          9.17466819e-01],\n",
       "       [  0.00000000e+00,   7.00000000e+00,   7.94838415e-05,\n",
       "          3.03926992e+00,  -1.16898477e-01,   3.89638853e+00,\n",
       "          9.31709945e-01],\n",
       "       [  0.00000000e+00,   7.00000000e+00,   7.94838415e-05,\n",
       "          3.92699242e-02,  -1.16898477e-01,   8.96388471e-01,\n",
       "          9.31709945e-01],\n",
       "       [  0.00000000e+00,   8.00000000e+00,   4.49953113e-05,\n",
       "          3.08928061e+00,  -1.46794319e-01,   3.84886837e+00,\n",
       "          9.05662775e-01],\n",
       "       [  0.00000000e+00,   8.00000000e+00,   4.49953113e-05,\n",
       "          3.57123137e-01,  -1.46794319e-01,   3.39547348e+00,\n",
       "          9.05662775e-01],\n",
       "       [  0.00000000e+00,   9.00000000e+00,   3.53134819e-05,\n",
       "          3.06145835e+00,  -2.00988650e-01,   3.91792989e+00,\n",
       "          9.65137243e-01],\n",
       "       [  0.00000000e+00,   9.00000000e+00,   3.53134819e-05,\n",
       "          6.14584684e-02,  -2.00988650e-01,   9.17929888e-01,\n",
       "          9.65137243e-01],\n",
       "       [  0.00000000e+00,   1.00000000e+01,   1.85181834e-05,\n",
       "          3.06233978e+00,  -1.73968941e-01,   3.87406206e+00,\n",
       "          9.29432988e-01],\n",
       "       [  0.00000000e+00,   1.00000000e+01,   1.85181834e-05,\n",
       "          6.23397231e-02,  -1.73968941e-01,   8.74061882e-01,\n",
       "          9.29432988e-01],\n",
       "       [  0.00000000e+00,   1.10000000e+01,   1.09191623e-03,\n",
       "          2.92666745e+00,  -1.86775953e-01,   3.98413062e+00,\n",
       "          9.85250831e-01],\n",
       "       [  0.00000000e+00,   1.10000000e+01,   1.09191623e-03,\n",
       "         -7.33325481e-02,  -1.86775953e-01,   9.84130621e-01,\n",
       "          9.85250831e-01],\n",
       "       [  0.00000000e+00,   1.20000000e+01,   1.45740458e-04,\n",
       "          3.10752845e+00,  -1.14827871e-01,   3.83223462e+00,\n",
       "          9.02487040e-01],\n",
       "       [  0.00000000e+00,   1.20000000e+01,   1.45740458e-04,\n",
       "          4.30113912e-01,  -1.14827871e-01,   3.32893896e+00,\n",
       "          9.02487040e-01],\n",
       "       [  0.00000000e+00,   1.30000000e+01,   5.82220346e-05,\n",
       "          3.06542802e+00,  -1.73817277e-01,   3.85459113e+00,\n",
       "          9.19937849e-01],\n",
       "       [  0.00000000e+00,   1.30000000e+01,   5.82220346e-05,\n",
       "          2.61712313e-01,  -1.73817277e-01,   3.41836452e+00,\n",
       "          9.19937849e-01],\n",
       "       [  0.00000000e+00,   1.40000000e+01,   5.36956613e-05,\n",
       "          3.04802322e+00,  -1.02652043e-01,   3.85501003e+00,\n",
       "          9.23283219e-01],\n",
       "       [  0.00000000e+00,   1.40000000e+01,   5.36956613e-05,\n",
       "          1.92093372e-01,  -1.02652043e-01,   3.42004013e+00,\n",
       "          9.23283219e-01],\n",
       "       [  0.00000000e+00,   1.50000000e+01,   5.61410561e-04,\n",
       "          3.06434751e+00,  -2.44724393e-01,   3.95259690e+00,\n",
       "          9.79096889e-01],\n",
       "       [  0.00000000e+00,   1.50000000e+01,   5.61410561e-04,\n",
       "          6.43474162e-02,  -2.44724393e-01,   9.52597022e-01,\n",
       "          9.79096889e-01],\n",
       "       [  0.00000000e+00,   1.60000000e+01,   4.58495670e-05,\n",
       "          3.11831188e+00,  -1.55679643e-01,   3.85560560e+00,\n",
       "          9.75960314e-01],\n",
       "       [  0.00000000e+00,   1.60000000e+01,   4.58495670e-05,\n",
       "          4.73247528e-01,  -1.55679643e-01,   3.42242289e+00,\n",
       "          9.75960314e-01],\n",
       "       [  0.00000000e+00,   1.70000000e+01,   7.45814759e-05,\n",
       "          3.08390117e+00,  -1.12209737e-01,   3.88128543e+00,\n",
       "          9.51251805e-01],\n",
       "       [  0.00000000e+00,   1.70000000e+01,   7.45814759e-05,\n",
       "          8.39011073e-02,  -1.12209737e-01,   8.81285489e-01,\n",
       "          9.51251805e-01],\n",
       "       [  0.00000000e+00,   1.80000000e+01,   5.87239665e-05,\n",
       "          2.96980596e+00,  -2.71338344e-01,   3.96359181e+00,\n",
       "          9.60821390e-01],\n",
       "       [  0.00000000e+00,   1.80000000e+01,   5.87239665e-05,\n",
       "         -3.01941931e-02,  -2.71338344e-01,   9.63591814e-01,\n",
       "          9.60821390e-01],\n",
       "       [  0.00000000e+00,   1.90000000e+01,   1.84960518e-05,\n",
       "          3.04263759e+00,  -8.37174952e-02,   3.91127658e+00,\n",
       "          9.02180314e-01],\n",
       "       [  0.00000000e+00,   1.90000000e+01,   1.84960518e-05,\n",
       "          4.26374972e-02,  -8.37174952e-02,   9.11276579e-01,\n",
       "          9.02180314e-01],\n",
       "       [  0.00000000e+00,   2.00000000e+01,   3.23027525e-05,\n",
       "          3.04747748e+00,  -1.43458962e-01,   3.90735459e+00,\n",
       "          9.64109898e-01],\n",
       "       [  0.00000000e+00,   2.00000000e+01,   3.23027525e-05,\n",
       "          4.74775434e-02,  -1.43458962e-01,   9.07354593e-01,\n",
       "          9.64109898e-01]], dtype=float32)"
      ]
     },
     "execution_count": 93,
     "metadata": {},
     "output_type": "execute_result"
    }
   ],
   "source": [
    "detections[0][0]"
   ]
  },
  {
   "cell_type": "code",
   "execution_count": null,
   "metadata": {},
   "outputs": [],
   "source": []
  }
 ],
 "metadata": {
  "kernelspec": {
   "display_name": "Python 2",
   "language": "python",
   "name": "python2"
  },
  "language_info": {
   "codemirror_mode": {
    "name": "ipython",
    "version": 2
   },
   "file_extension": ".py",
   "mimetype": "text/x-python",
   "name": "python",
   "nbconvert_exporter": "python",
   "pygments_lexer": "ipython2",
   "version": "2.7.14"
  }
 },
 "nbformat": 4,
 "nbformat_minor": 2
}
